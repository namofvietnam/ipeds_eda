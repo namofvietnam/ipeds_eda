{
 "cells": [
  {
   "cell_type": "code",
   "execution_count": 1,
   "id": "4b4fdc2e",
   "metadata": {},
   "outputs": [
    {
     "name": "stderr",
     "output_type": "stream",
     "text": [
      "C:\\Users\\nnguyen2\\AppData\\Local\\Temp\\ipykernel_11828\\2449311611.py:5: DeprecationWarning: Importing display from IPython.core.display is deprecated since IPython 7.14, please import from IPython display\n",
      "  from IPython.core.display import display, HTML\n"
     ]
    }
   ],
   "source": [
    "import pandas as pd\n",
    "import numpy as np\n",
    "import networkx as nx\n",
    "import matplotlib.pyplot as plt\n",
    "from IPython.core.display import display, HTML\n",
    "from pyvis import network as net\n",
    "import networkx as nx\n",
    "import plotly.graph_objects as go\n",
    "import plotly.io as pio\n",
    "from urllib.request import urlopen\n",
    "from json import loads\n",
    "from tqdm import tqdm"
   ]
  },
  {
   "attachments": {},
   "cell_type": "markdown",
   "id": "3372a1c3",
   "metadata": {},
   "source": [
    "IPEDS data can be fetched from https://educationdata.urban.org/documentation/colleges.html, which has several types of data into higher education and convenient ways to get data with Python, R, or download."
   ]
  },
  {
   "cell_type": "code",
   "execution_count": 2,
   "id": "4f5db5cd",
   "metadata": {},
   "outputs": [
    {
     "data": {
      "text/html": [
       "<div>\n",
       "<style scoped>\n",
       "    .dataframe tbody tr th:only-of-type {\n",
       "        vertical-align: middle;\n",
       "    }\n",
       "\n",
       "    .dataframe tbody tr th {\n",
       "        vertical-align: top;\n",
       "    }\n",
       "\n",
       "    .dataframe thead th {\n",
       "        text-align: right;\n",
       "    }\n",
       "</style>\n",
       "<table border=\"1\" class=\"dataframe\">\n",
       "  <thead>\n",
       "    <tr style=\"text-align: right;\">\n",
       "      <th></th>\n",
       "      <th>year</th>\n",
       "      <th>unitid</th>\n",
       "      <th>inst_name</th>\n",
       "      <th>address</th>\n",
       "      <th>state_abbr</th>\n",
       "      <th>zip</th>\n",
       "      <th>phone_number</th>\n",
       "      <th>city</th>\n",
       "      <th>county_name</th>\n",
       "      <th>offering_highest_level</th>\n",
       "      <th>...</th>\n",
       "      <th>cc_enroll_2018</th>\n",
       "      <th>cc_size_setting_2018</th>\n",
       "      <th>cc_basic_2021</th>\n",
       "      <th>cc_instruc_undergrad_2021</th>\n",
       "      <th>cc_instruc_grad_2021</th>\n",
       "      <th>cc_undergrad_2021</th>\n",
       "      <th>cc_enroll_2021</th>\n",
       "      <th>cc_size_setting_2021</th>\n",
       "      <th>cc_size_setting_2015</th>\n",
       "      <th>url_disability_services</th>\n",
       "    </tr>\n",
       "  </thead>\n",
       "  <tbody>\n",
       "    <tr>\n",
       "      <th>6284</th>\n",
       "      <td>2021</td>\n",
       "      <td>497301</td>\n",
       "      <td>Avalon Institute-Las Vegas</td>\n",
       "      <td>2650 South Decatur Boulevard Suites 1, 6, 8-10</td>\n",
       "      <td>NV</td>\n",
       "      <td>89102-0046</td>\n",
       "      <td>7024784599</td>\n",
       "      <td>Las Vegas</td>\n",
       "      <td>Clark County</td>\n",
       "      <td>2</td>\n",
       "      <td>...</td>\n",
       "      <td>-1</td>\n",
       "      <td>-1</td>\n",
       "      <td>-2</td>\n",
       "      <td>-2</td>\n",
       "      <td>-2</td>\n",
       "      <td>-2</td>\n",
       "      <td>-2</td>\n",
       "      <td>-2</td>\n",
       "      <td>-1</td>\n",
       "      <td>https://avalon.edu/admissions-process/</td>\n",
       "    </tr>\n",
       "    <tr>\n",
       "      <th>6285</th>\n",
       "      <td>2021</td>\n",
       "      <td>497310</td>\n",
       "      <td>Medspa Academies-National Institute of Modern ...</td>\n",
       "      <td>3993 Howard Hughes Parkway Suite 150</td>\n",
       "      <td>NV</td>\n",
       "      <td>89169-6745</td>\n",
       "      <td>8018906835</td>\n",
       "      <td>Las Vegas</td>\n",
       "      <td>Clark County</td>\n",
       "      <td>2</td>\n",
       "      <td>...</td>\n",
       "      <td>-1</td>\n",
       "      <td>-1</td>\n",
       "      <td>-2</td>\n",
       "      <td>-2</td>\n",
       "      <td>-2</td>\n",
       "      <td>-2</td>\n",
       "      <td>-2</td>\n",
       "      <td>-2</td>\n",
       "      <td>-1</td>\n",
       "      <td>https://www.nima.edu/aesthetician-school-near-me/</td>\n",
       "    </tr>\n",
       "    <tr>\n",
       "      <th>6286</th>\n",
       "      <td>2021</td>\n",
       "      <td>497329</td>\n",
       "      <td>American Institute-Cherry Hill</td>\n",
       "      <td>2201 Route 38 8th Floor</td>\n",
       "      <td>NJ</td>\n",
       "      <td>08002-4309</td>\n",
       "      <td>8564445600</td>\n",
       "      <td>Cherry Hill</td>\n",
       "      <td>Camden County</td>\n",
       "      <td>2</td>\n",
       "      <td>...</td>\n",
       "      <td>-1</td>\n",
       "      <td>-1</td>\n",
       "      <td>-2</td>\n",
       "      <td>-2</td>\n",
       "      <td>-2</td>\n",
       "      <td>-2</td>\n",
       "      <td>-2</td>\n",
       "      <td>-2</td>\n",
       "      <td>-1</td>\n",
       "      <td>https://www.americaninstitute.com/</td>\n",
       "    </tr>\n",
       "    <tr>\n",
       "      <th>6287</th>\n",
       "      <td>2021</td>\n",
       "      <td>497338</td>\n",
       "      <td>Glendale Career College-North-West College-Bak...</td>\n",
       "      <td>3000 Ming Avenue</td>\n",
       "      <td>CA</td>\n",
       "      <td>93304-5075</td>\n",
       "      <td>6614047575</td>\n",
       "      <td>Bakersfield</td>\n",
       "      <td>Kern County</td>\n",
       "      <td>3</td>\n",
       "      <td>...</td>\n",
       "      <td>-1</td>\n",
       "      <td>-1</td>\n",
       "      <td>-2</td>\n",
       "      <td>-2</td>\n",
       "      <td>-2</td>\n",
       "      <td>-2</td>\n",
       "      <td>-2</td>\n",
       "      <td>-2</td>\n",
       "      <td>-1</td>\n",
       "      <td>https://glendalecareercollege.com/</td>\n",
       "    </tr>\n",
       "    <tr>\n",
       "      <th>6288</th>\n",
       "      <td>2021</td>\n",
       "      <td>497347</td>\n",
       "      <td>University of Maine - Machias</td>\n",
       "      <td>116 O'Brien Avenue</td>\n",
       "      <td>ME</td>\n",
       "      <td>04654-1397</td>\n",
       "      <td></td>\n",
       "      <td>Machias</td>\n",
       "      <td>Washington County</td>\n",
       "      <td>-1</td>\n",
       "      <td>...</td>\n",
       "      <td>-1</td>\n",
       "      <td>-1</td>\n",
       "      <td>-2</td>\n",
       "      <td>-2</td>\n",
       "      <td>-2</td>\n",
       "      <td>-2</td>\n",
       "      <td>-2</td>\n",
       "      <td>-2</td>\n",
       "      <td>-1</td>\n",
       "      <td></td>\n",
       "    </tr>\n",
       "  </tbody>\n",
       "</table>\n",
       "<p>5 rows × 88 columns</p>\n",
       "</div>"
      ],
      "text/plain": [
       "      year  unitid                                          inst_name  \\\n",
       "6284  2021  497301                         Avalon Institute-Las Vegas   \n",
       "6285  2021  497310  Medspa Academies-National Institute of Modern ...   \n",
       "6286  2021  497329                     American Institute-Cherry Hill   \n",
       "6287  2021  497338  Glendale Career College-North-West College-Bak...   \n",
       "6288  2021  497347                      University of Maine - Machias   \n",
       "\n",
       "                                             address state_abbr         zip  \\\n",
       "6284  2650 South Decatur Boulevard Suites 1, 6, 8-10         NV  89102-0046   \n",
       "6285            3993 Howard Hughes Parkway Suite 150         NV  89169-6745   \n",
       "6286                         2201 Route 38 8th Floor         NJ  08002-4309   \n",
       "6287                                3000 Ming Avenue         CA  93304-5075   \n",
       "6288                              116 O'Brien Avenue         ME  04654-1397   \n",
       "\n",
       "     phone_number         city        county_name  offering_highest_level  \\\n",
       "6284   7024784599    Las Vegas       Clark County                       2   \n",
       "6285   8018906835    Las Vegas       Clark County                       2   \n",
       "6286   8564445600  Cherry Hill      Camden County                       2   \n",
       "6287   6614047575  Bakersfield        Kern County                       3   \n",
       "6288                   Machias  Washington County                      -1   \n",
       "\n",
       "      ...  cc_enroll_2018  cc_size_setting_2018  cc_basic_2021  \\\n",
       "6284  ...              -1                    -1             -2   \n",
       "6285  ...              -1                    -1             -2   \n",
       "6286  ...              -1                    -1             -2   \n",
       "6287  ...              -1                    -1             -2   \n",
       "6288  ...              -1                    -1             -2   \n",
       "\n",
       "      cc_instruc_undergrad_2021  cc_instruc_grad_2021 cc_undergrad_2021  \\\n",
       "6284                         -2                    -2                -2   \n",
       "6285                         -2                    -2                -2   \n",
       "6286                         -2                    -2                -2   \n",
       "6287                         -2                    -2                -2   \n",
       "6288                         -2                    -2                -2   \n",
       "\n",
       "     cc_enroll_2021  cc_size_setting_2021  cc_size_setting_2015  \\\n",
       "6284             -2                    -2                    -1   \n",
       "6285             -2                    -2                    -1   \n",
       "6286             -2                    -2                    -1   \n",
       "6287             -2                    -2                    -1   \n",
       "6288             -2                    -2                    -1   \n",
       "\n",
       "                                url_disability_services  \n",
       "6284             https://avalon.edu/admissions-process/  \n",
       "6285  https://www.nima.edu/aesthetician-school-near-me/  \n",
       "6286                 https://www.americaninstitute.com/  \n",
       "6287                 https://glendalecareercollege.com/  \n",
       "6288                                                     \n",
       "\n",
       "[5 rows x 88 columns]"
      ]
     },
     "execution_count": 2,
     "metadata": {},
     "output_type": "execute_result"
    }
   ],
   "source": [
    "# get the directory of higher education institutions with basic information\n",
    "year = 2021\n",
    "url = f\"https://educationdata.urban.org/api/v1/college-university/ipeds/directory/{year}/\"\n",
    "response = urlopen(url)\n",
    "data = loads(response.read())\n",
    "directory = pd.json_normalize(data['results'])\n",
    "directory['unitid']=directory['unitid'].astype(str)\n",
    "directory.tail()"
   ]
  },
  {
   "cell_type": "code",
   "execution_count": 3,
   "id": "dae44cb9",
   "metadata": {},
   "outputs": [],
   "source": [
    "# Make a function to get data on the same topic for multiple years\n",
    "def request_data(url, suffix=''):\n",
    "    df = pd.DataFrame()\n",
    "    for year in tqdm(range(1887,2022)):\n",
    "        try:\n",
    "            response = urlopen(url+f'{year}{suffix}')\n",
    "            data = loads(response.read())\n",
    "            dataframe = pd.json_normalize(data['results'])\n",
    "            df = pd.concat([df, dataframe], ignore_index = True)\n",
    "        except:\n",
    "            df = pd.concat([df,pd.DataFrame()], ignore_index = True)\n",
    "    return df"
   ]
  },
  {
   "cell_type": "code",
   "execution_count": 4,
   "id": "883e05f4",
   "metadata": {},
   "outputs": [
    {
     "name": "stderr",
     "output_type": "stream",
     "text": [
      "100%|██████████| 135/135 [04:19<00:00,  1.92s/it]\n"
     ]
    }
   ],
   "source": [
    "# Query finance data\n",
    "url = \"https://educationdata.urban.org/api/v1/college-university/ipeds/finance/\"\n",
    "fin = request_data(url)\n",
    "fin['unitid'] = fin['unitid'].astype(str)"
   ]
  },
  {
   "cell_type": "code",
   "execution_count": 5,
   "id": "ac8b1e89",
   "metadata": {},
   "outputs": [
    {
     "name": "stderr",
     "output_type": "stream",
     "text": [
      "100%|██████████| 135/135 [00:41<00:00,  3.26it/s]\n"
     ]
    }
   ],
   "source": [
    "# Admissions — Applications, admissions, and enrollments\n",
    "url = \"https://educationdata.urban.org/api/v1/college-university/ipeds/admissions-enrollment/\"\n",
    "aae = request_data(url)\n",
    "aae['unitid'] = aae['unitid'].astype(str)"
   ]
  },
  {
   "cell_type": "code",
   "execution_count": 6,
   "id": "4cd9d564",
   "metadata": {},
   "outputs": [
    {
     "name": "stderr",
     "output_type": "stream",
     "text": [
      "100%|██████████| 135/135 [00:46<00:00,  2.90it/s]\n"
     ]
    }
   ],
   "source": [
    "# Earnings after graduation\n",
    "earnings = request_data(\"https://educationdata.urban.org/api/v1/college-university/scorecard/earnings/\")\n",
    "earnings['unitid'] = earnings['unitid'].astype(str)"
   ]
  },
  {
   "cell_type": "code",
   "execution_count": 7,
   "id": "9ee08e45",
   "metadata": {},
   "outputs": [
    {
     "name": "stderr",
     "output_type": "stream",
     "text": [
      "100%|██████████| 135/135 [00:40<00:00,  3.37it/s]\n"
     ]
    }
   ],
   "source": [
    "# Grants and Net Price\n",
    "gnp = request_data(\"https://educationdata.urban.org/api/v1/college-university/ipeds/sfa-grants-and-net-price/\")\n",
    "gnp['unitid'] = gnp['unitid'].astype(str)"
   ]
  },
  {
   "cell_type": "code",
   "execution_count": 8,
   "id": "ddfb54ec",
   "metadata": {},
   "outputs": [
    {
     "data": {
      "text/plain": [
       "5776"
      ]
     },
     "execution_count": 8,
     "metadata": {},
     "output_type": "execute_result"
    }
   ],
   "source": [
    "# This is the alliance data I assembled by myself and not part of IPEDS\n",
    "aldf = pd.read_csv('G:/My Drive/Career/Presidential Research/Higher Education/institution_data/alliances.csv', dtype={'unitid': str})\n",
    "len(aldf)"
   ]
  },
  {
   "cell_type": "code",
   "execution_count": 9,
   "id": "d7e4cad7",
   "metadata": {},
   "outputs": [
    {
     "data": {
      "text/plain": [
       "0    4481\n",
       "1    1808\n",
       "Name: in_alliance, dtype: int64"
      ]
     },
     "execution_count": 9,
     "metadata": {},
     "output_type": "execute_result"
    }
   ],
   "source": [
    "# Create 2 groups, \"in alliance\" and \"standalone\"\n",
    "directory['in_alliance'] = np.where(directory['unitid'].isin(aldf['unitid'].unique()), 1, 0)\n",
    "directory['in_alliance'].value_counts()\n"
   ]
  },
  {
   "cell_type": "code",
   "execution_count": 23,
   "id": "22ae6c7f",
   "metadata": {},
   "outputs": [
    {
     "data": {
      "application/vnd.plotly.v1+json": {
       "config": {
        "plotlyServerURL": "https://plotly.com"
       },
       "data": [
        {
         "alignmentgroup": "True",
         "hovertemplate": "alliance status=in alliance<br>Percentage=%{x}<br>Sector=%{y}<br>Count=%{text}<extra></extra>",
         "legendgroup": "in alliance",
         "marker": {
          "color": "green",
          "line": {
           "width": 3
          },
          "pattern": {
           "shape": ""
          }
         },
         "name": "in alliance",
         "offsetgroup": "in alliance",
         "orientation": "h",
         "showlegend": true,
         "text": [
          2,
          7,
          9,
          20,
          171,
          585,
          1014
         ],
         "textfont": {
          "size": 16
         },
         "textposition": "auto",
         "texttemplate": "%{text} inst; %{x:.2%}",
         "type": "bar",
         "x": [
          0.0011061946902654867,
          0.0038716814159292035,
          0.00497787610619469,
          0.011061946902654867,
          0.09457964601769911,
          0.3235619469026549,
          0.5608407079646017
         ],
         "xaxis": "x",
         "y": [
          "private for-profit two-year",
          "private for-profit four-year",
          "private non-profit two-year",
          "administrative unit",
          "public two-year",
          "public four-year",
          "private non-profit four-year"
         ],
         "yaxis": "y"
        },
        {
         "alignmentgroup": "True",
         "hovertemplate": "alliance status=standalone<br>Percentage=%{x}<br>Sector=%{y}<br>Count=%{text}<extra></extra>",
         "legendgroup": "standalone",
         "marker": {
          "color": "lightgrey",
          "line": {
           "width": 3
          },
          "pattern": {
           "shape": ""
          }
         },
         "name": "standalone",
         "offsetgroup": "standalone",
         "orientation": "h",
         "showlegend": true,
         "text": [
          16,
          51,
          65,
          136,
          199,
          235,
          348,
          561,
          641,
          740,
          1489
         ],
         "textfont": {
          "size": 16
         },
         "textposition": "auto",
         "texttemplate": "%{text} inst; %{x:.2%}",
         "type": "bar",
         "x": [
          0.0035706315554563713,
          0.011381388083017184,
          0.014505690694041508,
          0.030350368221379157,
          0.04440972997098862,
          0.052443650970765456,
          0.07766123633117608,
          0.12519526891318902,
          0.14304842669047088,
          0.16514170943985718,
          0.33229189912965856
         ],
         "xaxis": "x",
         "y": [
          "unknown",
          "administrative unit",
          "private non-profit less than two-year",
          "private non-profit two-year",
          "public four-year",
          "public less than two-year",
          "private for-profit four-year",
          "private for-profit two-year",
          "private non-profit four-year",
          "public two-year",
          "private for-profit less than two-year"
         ],
         "yaxis": "y"
        }
       ],
       "layout": {
        "barmode": "group",
        "height": 1000,
        "legend": {
         "bgcolor": "rgba(255,255,255,0.5)",
         "bordercolor": "rgba(0,0,0,0.5)",
         "borderwidth": 0,
         "font": {
          "size": 20
         },
         "title": {},
         "tracegroupgap": 0,
         "x": 0.98,
         "xanchor": "right",
         "yanchor": "top"
        },
        "margin": {
         "t": 60
        },
        "template": {
         "data": {
          "bar": [
           {
            "error_x": {
             "color": "#2a3f5f"
            },
            "error_y": {
             "color": "#2a3f5f"
            },
            "marker": {
             "line": {
              "color": "#E5ECF6",
              "width": 0.5
             },
             "pattern": {
              "fillmode": "overlay",
              "size": 10,
              "solidity": 0.2
             }
            },
            "type": "bar"
           }
          ],
          "barpolar": [
           {
            "marker": {
             "line": {
              "color": "#E5ECF6",
              "width": 0.5
             },
             "pattern": {
              "fillmode": "overlay",
              "size": 10,
              "solidity": 0.2
             }
            },
            "type": "barpolar"
           }
          ],
          "carpet": [
           {
            "aaxis": {
             "endlinecolor": "#2a3f5f",
             "gridcolor": "white",
             "linecolor": "white",
             "minorgridcolor": "white",
             "startlinecolor": "#2a3f5f"
            },
            "baxis": {
             "endlinecolor": "#2a3f5f",
             "gridcolor": "white",
             "linecolor": "white",
             "minorgridcolor": "white",
             "startlinecolor": "#2a3f5f"
            },
            "type": "carpet"
           }
          ],
          "choropleth": [
           {
            "colorbar": {
             "outlinewidth": 0,
             "ticks": ""
            },
            "type": "choropleth"
           }
          ],
          "contour": [
           {
            "colorbar": {
             "outlinewidth": 0,
             "ticks": ""
            },
            "colorscale": [
             [
              0,
              "#0d0887"
             ],
             [
              0.1111111111111111,
              "#46039f"
             ],
             [
              0.2222222222222222,
              "#7201a8"
             ],
             [
              0.3333333333333333,
              "#9c179e"
             ],
             [
              0.4444444444444444,
              "#bd3786"
             ],
             [
              0.5555555555555556,
              "#d8576b"
             ],
             [
              0.6666666666666666,
              "#ed7953"
             ],
             [
              0.7777777777777778,
              "#fb9f3a"
             ],
             [
              0.8888888888888888,
              "#fdca26"
             ],
             [
              1,
              "#f0f921"
             ]
            ],
            "type": "contour"
           }
          ],
          "contourcarpet": [
           {
            "colorbar": {
             "outlinewidth": 0,
             "ticks": ""
            },
            "type": "contourcarpet"
           }
          ],
          "heatmap": [
           {
            "colorbar": {
             "outlinewidth": 0,
             "ticks": ""
            },
            "colorscale": [
             [
              0,
              "#0d0887"
             ],
             [
              0.1111111111111111,
              "#46039f"
             ],
             [
              0.2222222222222222,
              "#7201a8"
             ],
             [
              0.3333333333333333,
              "#9c179e"
             ],
             [
              0.4444444444444444,
              "#bd3786"
             ],
             [
              0.5555555555555556,
              "#d8576b"
             ],
             [
              0.6666666666666666,
              "#ed7953"
             ],
             [
              0.7777777777777778,
              "#fb9f3a"
             ],
             [
              0.8888888888888888,
              "#fdca26"
             ],
             [
              1,
              "#f0f921"
             ]
            ],
            "type": "heatmap"
           }
          ],
          "heatmapgl": [
           {
            "colorbar": {
             "outlinewidth": 0,
             "ticks": ""
            },
            "colorscale": [
             [
              0,
              "#0d0887"
             ],
             [
              0.1111111111111111,
              "#46039f"
             ],
             [
              0.2222222222222222,
              "#7201a8"
             ],
             [
              0.3333333333333333,
              "#9c179e"
             ],
             [
              0.4444444444444444,
              "#bd3786"
             ],
             [
              0.5555555555555556,
              "#d8576b"
             ],
             [
              0.6666666666666666,
              "#ed7953"
             ],
             [
              0.7777777777777778,
              "#fb9f3a"
             ],
             [
              0.8888888888888888,
              "#fdca26"
             ],
             [
              1,
              "#f0f921"
             ]
            ],
            "type": "heatmapgl"
           }
          ],
          "histogram": [
           {
            "marker": {
             "pattern": {
              "fillmode": "overlay",
              "size": 10,
              "solidity": 0.2
             }
            },
            "type": "histogram"
           }
          ],
          "histogram2d": [
           {
            "colorbar": {
             "outlinewidth": 0,
             "ticks": ""
            },
            "colorscale": [
             [
              0,
              "#0d0887"
             ],
             [
              0.1111111111111111,
              "#46039f"
             ],
             [
              0.2222222222222222,
              "#7201a8"
             ],
             [
              0.3333333333333333,
              "#9c179e"
             ],
             [
              0.4444444444444444,
              "#bd3786"
             ],
             [
              0.5555555555555556,
              "#d8576b"
             ],
             [
              0.6666666666666666,
              "#ed7953"
             ],
             [
              0.7777777777777778,
              "#fb9f3a"
             ],
             [
              0.8888888888888888,
              "#fdca26"
             ],
             [
              1,
              "#f0f921"
             ]
            ],
            "type": "histogram2d"
           }
          ],
          "histogram2dcontour": [
           {
            "colorbar": {
             "outlinewidth": 0,
             "ticks": ""
            },
            "colorscale": [
             [
              0,
              "#0d0887"
             ],
             [
              0.1111111111111111,
              "#46039f"
             ],
             [
              0.2222222222222222,
              "#7201a8"
             ],
             [
              0.3333333333333333,
              "#9c179e"
             ],
             [
              0.4444444444444444,
              "#bd3786"
             ],
             [
              0.5555555555555556,
              "#d8576b"
             ],
             [
              0.6666666666666666,
              "#ed7953"
             ],
             [
              0.7777777777777778,
              "#fb9f3a"
             ],
             [
              0.8888888888888888,
              "#fdca26"
             ],
             [
              1,
              "#f0f921"
             ]
            ],
            "type": "histogram2dcontour"
           }
          ],
          "mesh3d": [
           {
            "colorbar": {
             "outlinewidth": 0,
             "ticks": ""
            },
            "type": "mesh3d"
           }
          ],
          "parcoords": [
           {
            "line": {
             "colorbar": {
              "outlinewidth": 0,
              "ticks": ""
             }
            },
            "type": "parcoords"
           }
          ],
          "pie": [
           {
            "automargin": true,
            "type": "pie"
           }
          ],
          "scatter": [
           {
            "fillpattern": {
             "fillmode": "overlay",
             "size": 10,
             "solidity": 0.2
            },
            "type": "scatter"
           }
          ],
          "scatter3d": [
           {
            "line": {
             "colorbar": {
              "outlinewidth": 0,
              "ticks": ""
             }
            },
            "marker": {
             "colorbar": {
              "outlinewidth": 0,
              "ticks": ""
             }
            },
            "type": "scatter3d"
           }
          ],
          "scattercarpet": [
           {
            "marker": {
             "colorbar": {
              "outlinewidth": 0,
              "ticks": ""
             }
            },
            "type": "scattercarpet"
           }
          ],
          "scattergeo": [
           {
            "marker": {
             "colorbar": {
              "outlinewidth": 0,
              "ticks": ""
             }
            },
            "type": "scattergeo"
           }
          ],
          "scattergl": [
           {
            "marker": {
             "colorbar": {
              "outlinewidth": 0,
              "ticks": ""
             }
            },
            "type": "scattergl"
           }
          ],
          "scattermapbox": [
           {
            "marker": {
             "colorbar": {
              "outlinewidth": 0,
              "ticks": ""
             }
            },
            "type": "scattermapbox"
           }
          ],
          "scatterpolar": [
           {
            "marker": {
             "colorbar": {
              "outlinewidth": 0,
              "ticks": ""
             }
            },
            "type": "scatterpolar"
           }
          ],
          "scatterpolargl": [
           {
            "marker": {
             "colorbar": {
              "outlinewidth": 0,
              "ticks": ""
             }
            },
            "type": "scatterpolargl"
           }
          ],
          "scatterternary": [
           {
            "marker": {
             "colorbar": {
              "outlinewidth": 0,
              "ticks": ""
             }
            },
            "type": "scatterternary"
           }
          ],
          "surface": [
           {
            "colorbar": {
             "outlinewidth": 0,
             "ticks": ""
            },
            "colorscale": [
             [
              0,
              "#0d0887"
             ],
             [
              0.1111111111111111,
              "#46039f"
             ],
             [
              0.2222222222222222,
              "#7201a8"
             ],
             [
              0.3333333333333333,
              "#9c179e"
             ],
             [
              0.4444444444444444,
              "#bd3786"
             ],
             [
              0.5555555555555556,
              "#d8576b"
             ],
             [
              0.6666666666666666,
              "#ed7953"
             ],
             [
              0.7777777777777778,
              "#fb9f3a"
             ],
             [
              0.8888888888888888,
              "#fdca26"
             ],
             [
              1,
              "#f0f921"
             ]
            ],
            "type": "surface"
           }
          ],
          "table": [
           {
            "cells": {
             "fill": {
              "color": "#EBF0F8"
             },
             "line": {
              "color": "white"
             }
            },
            "header": {
             "fill": {
              "color": "#C8D4E3"
             },
             "line": {
              "color": "white"
             }
            },
            "type": "table"
           }
          ]
         },
         "layout": {
          "annotationdefaults": {
           "arrowcolor": "#2a3f5f",
           "arrowhead": 0,
           "arrowwidth": 1
          },
          "autotypenumbers": "strict",
          "coloraxis": {
           "colorbar": {
            "outlinewidth": 0,
            "ticks": ""
           }
          },
          "colorscale": {
           "diverging": [
            [
             0,
             "#8e0152"
            ],
            [
             0.1,
             "#c51b7d"
            ],
            [
             0.2,
             "#de77ae"
            ],
            [
             0.3,
             "#f1b6da"
            ],
            [
             0.4,
             "#fde0ef"
            ],
            [
             0.5,
             "#f7f7f7"
            ],
            [
             0.6,
             "#e6f5d0"
            ],
            [
             0.7,
             "#b8e186"
            ],
            [
             0.8,
             "#7fbc41"
            ],
            [
             0.9,
             "#4d9221"
            ],
            [
             1,
             "#276419"
            ]
           ],
           "sequential": [
            [
             0,
             "#0d0887"
            ],
            [
             0.1111111111111111,
             "#46039f"
            ],
            [
             0.2222222222222222,
             "#7201a8"
            ],
            [
             0.3333333333333333,
             "#9c179e"
            ],
            [
             0.4444444444444444,
             "#bd3786"
            ],
            [
             0.5555555555555556,
             "#d8576b"
            ],
            [
             0.6666666666666666,
             "#ed7953"
            ],
            [
             0.7777777777777778,
             "#fb9f3a"
            ],
            [
             0.8888888888888888,
             "#fdca26"
            ],
            [
             1,
             "#f0f921"
            ]
           ],
           "sequentialminus": [
            [
             0,
             "#0d0887"
            ],
            [
             0.1111111111111111,
             "#46039f"
            ],
            [
             0.2222222222222222,
             "#7201a8"
            ],
            [
             0.3333333333333333,
             "#9c179e"
            ],
            [
             0.4444444444444444,
             "#bd3786"
            ],
            [
             0.5555555555555556,
             "#d8576b"
            ],
            [
             0.6666666666666666,
             "#ed7953"
            ],
            [
             0.7777777777777778,
             "#fb9f3a"
            ],
            [
             0.8888888888888888,
             "#fdca26"
            ],
            [
             1,
             "#f0f921"
            ]
           ]
          },
          "colorway": [
           "#636efa",
           "#EF553B",
           "#00cc96",
           "#ab63fa",
           "#FFA15A",
           "#19d3f3",
           "#FF6692",
           "#B6E880",
           "#FF97FF",
           "#FECB52"
          ],
          "font": {
           "color": "#2a3f5f"
          },
          "geo": {
           "bgcolor": "white",
           "lakecolor": "white",
           "landcolor": "#E5ECF6",
           "showlakes": true,
           "showland": true,
           "subunitcolor": "white"
          },
          "hoverlabel": {
           "align": "left"
          },
          "hovermode": "closest",
          "mapbox": {
           "style": "light"
          },
          "paper_bgcolor": "white",
          "plot_bgcolor": "#E5ECF6",
          "polar": {
           "angularaxis": {
            "gridcolor": "white",
            "linecolor": "white",
            "ticks": ""
           },
           "bgcolor": "#E5ECF6",
           "radialaxis": {
            "gridcolor": "white",
            "linecolor": "white",
            "ticks": ""
           }
          },
          "scene": {
           "xaxis": {
            "backgroundcolor": "#E5ECF6",
            "gridcolor": "white",
            "gridwidth": 2,
            "linecolor": "white",
            "showbackground": true,
            "ticks": "",
            "zerolinecolor": "white"
           },
           "yaxis": {
            "backgroundcolor": "#E5ECF6",
            "gridcolor": "white",
            "gridwidth": 2,
            "linecolor": "white",
            "showbackground": true,
            "ticks": "",
            "zerolinecolor": "white"
           },
           "zaxis": {
            "backgroundcolor": "#E5ECF6",
            "gridcolor": "white",
            "gridwidth": 2,
            "linecolor": "white",
            "showbackground": true,
            "ticks": "",
            "zerolinecolor": "white"
           }
          },
          "shapedefaults": {
           "line": {
            "color": "#2a3f5f"
           }
          },
          "ternary": {
           "aaxis": {
            "gridcolor": "white",
            "linecolor": "white",
            "ticks": ""
           },
           "baxis": {
            "gridcolor": "white",
            "linecolor": "white",
            "ticks": ""
           },
           "bgcolor": "#E5ECF6",
           "caxis": {
            "gridcolor": "white",
            "linecolor": "white",
            "ticks": ""
           }
          },
          "title": {
           "x": 0.05
          },
          "xaxis": {
           "automargin": true,
           "gridcolor": "white",
           "linecolor": "white",
           "ticks": "",
           "title": {
            "standoff": 15
           },
           "zerolinecolor": "white",
           "zerolinewidth": 2
          },
          "yaxis": {
           "automargin": true,
           "gridcolor": "white",
           "linecolor": "white",
           "ticks": "",
           "title": {
            "standoff": 15
           },
           "zerolinecolor": "white",
           "zerolinewidth": 2
          }
         }
        },
        "title": {
         "font": {
          "size": 24
         },
         "text": "Sector Distribution by Alliance Status"
        },
        "width": 1000,
        "xaxis": {
         "anchor": "y",
         "domain": [
          0,
          1
         ],
         "showticklabels": true,
         "tickfont": {
          "size": 16
         },
         "tickformat": ".0%",
         "title": {
          "font": {
           "size": 20
          },
          "text": "Percentage within Group"
         }
        },
        "yaxis": {
         "anchor": "x",
         "domain": [
          0,
          1
         ],
         "showticklabels": true,
         "tickfont": {
          "size": 16
         },
         "ticktext": [
          "private for-profit two-year",
          "unknown",
          "private for-profit four-year",
          "private non-profit two-year",
          "administrative unit",
          "administrative unit",
          "private non-profit less than two-year",
          "private non-profit two-year",
          "public four-year",
          "public less than two-year",
          "private for-profit four-year",
          "public two-year",
          "private for-profit two-year",
          "private non-profit four-year",
          "public two-year",
          "public four-year",
          "private for-profit less than two-year",
          "private non-profit four-year"
         ],
         "title": {}
        }
       }
      }
     },
     "metadata": {},
     "output_type": "display_data"
    }
   ],
   "source": [
    "in_alliance_sector_count = pd.DataFrame(directory[directory['in_alliance']==1]['sector'].value_counts(normalize=False)).reset_index().rename(columns={'index':'sector', 'sector':'count'})\n",
    "standalone_sector_count = pd.DataFrame(directory[directory['in_alliance']==0]['sector'].value_counts(normalize=False)).reset_index().rename(columns={'index':'sector', 'sector':'count'})\n",
    "in_alliance_sector_percentage = pd.DataFrame(directory[directory['in_alliance']==1]['sector'].value_counts(normalize=True)).reset_index().rename(columns={'index':'sector', 'sector':'percentage'})\n",
    "standalone_sector_percentage = pd.DataFrame(directory[directory['in_alliance']==0]['sector'].value_counts(normalize=True)).reset_index().rename(columns={'index':'sector', 'sector':'percentage'})\n",
    "table = pd.merge(in_alliance_sector_count, in_alliance_sector_percentage, on='sector', how = 'outer').merge(standalone_sector_count, on='sector', how = 'outer').merge(standalone_sector_percentage, on='sector', how = 'outer')\n",
    "\n",
    "sector_dict = {0:'administrative unit',1:'public four-year', 2:'private non-profit four-year', 3:'private for-profit four-year', 4:'public two-year', 5:'private non-profit two-year',\n",
    "               6:'private for-profit two-year', 7:'public less than two-year', 8:'private non-profit less than two-year', 9:'private for-profit less than two-year', -1:'unknown', -2:'not applicable',-3:'suppressed data'}\n",
    "\n",
    "table['sector'] = table['sector'].astype(int).replace(sector_dict)\n",
    "in_alliance_table = pd.merge(in_alliance_sector_count, in_alliance_sector_percentage, on='sector')\n",
    "in_alliance_table['alliance status'] = 'in alliance'\n",
    "standalone_table = pd.merge(standalone_sector_count, standalone_sector_percentage, on='sector')\n",
    "standalone_table['alliance status'] = 'standalone'\n",
    "viz_table = pd.concat([in_alliance_table, standalone_table])\n",
    "viz_table['sector'] = viz_table['sector'].astype(int).replace(sector_dict)\n",
    "import plotly.express as px\n",
    "\n",
    "# Sort the dataframe by percentage for in alliance group in descending order\n",
    "viz_table_sorted = viz_table.sort_values(by=['percentage'], ascending=True)\n",
    "# Create a grouped bar chart with custom bar width and opacity\n",
    "fig = px.bar(viz_table_sorted, x='percentage', y='sector', color='alliance status',text='count',\n",
    "             color_discrete_map={'standalone': 'lightgrey', 'in alliance': 'green'},\n",
    "             barmode='group', labels={'percentage': 'Percentage', 'sector': 'Sector', 'count': 'Count'})\n",
    "\n",
    "# Add custom labels to the bars with larger font size\n",
    "fig.update_traces(texttemplate='%{text} inst; %{x:.2%}',\n",
    "                  marker=dict(line=dict(width=3)), # Adjust bar width\n",
    "                  textfont=dict(size=16)) # Adjust label font size\n",
    "\n",
    "# Update layout\n",
    "fig.update_layout(title_text='Sector Distribution by Alliance Status', title_font_size=24,\n",
    "                  xaxis=dict(title='Percentage within Group', titlefont=dict(size=20), tickfont=dict(size=16), showticklabels=True, tickformat='.0%'),\n",
    "                  yaxis=dict(title=None, showticklabels=True, ticktext=viz_table_sorted['sector'], tickfont=dict(size=16)),\n",
    "                  legend=dict(title=None, font=dict(size=20), xanchor='right', x=0.98, yanchor='top', bgcolor='rgba(255,255,255,0.5)', bordercolor='rgba(0,0,0,0.5)', borderwidth=0), # Update legend properties\n",
    "                  width=1000, # Adjust figure width\n",
    "                  height=1000) # Adjust figure height\n",
    "\n",
    "# Show the figure\n",
    "fig.show()"
   ]
  },
  {
   "attachments": {},
   "cell_type": "markdown",
   "id": "7e0433a0",
   "metadata": {},
   "source": [
    "# Combining Data"
   ]
  },
  {
   "cell_type": "code",
   "execution_count": 82,
   "id": "b2e4b47d",
   "metadata": {},
   "outputs": [
    {
     "data": {
      "text/html": [
       "<div>\n",
       "<style scoped>\n",
       "    .dataframe tbody tr th:only-of-type {\n",
       "        vertical-align: middle;\n",
       "    }\n",
       "\n",
       "    .dataframe tbody tr th {\n",
       "        vertical-align: top;\n",
       "    }\n",
       "\n",
       "    .dataframe thead th {\n",
       "        text-align: right;\n",
       "    }\n",
       "</style>\n",
       "<table border=\"1\" class=\"dataframe\">\n",
       "  <thead>\n",
       "    <tr style=\"text-align: right;\">\n",
       "      <th></th>\n",
       "      <th>unitid</th>\n",
       "      <th>inst_name</th>\n",
       "      <th>city</th>\n",
       "      <th>state_abbr</th>\n",
       "      <th>in_alliance</th>\n",
       "      <th>sector</th>\n",
       "      <th>inst_category</th>\n",
       "      <th>latitude</th>\n",
       "      <th>longitude</th>\n",
       "      <th>unitid:1</th>\n",
       "      <th>...</th>\n",
       "      <th>heca</th>\n",
       "      <th>est_fte</th>\n",
       "      <th>rep_fte</th>\n",
       "      <th>calc_fte</th>\n",
       "      <th>number_applied</th>\n",
       "      <th>number_admitted</th>\n",
       "      <th>number_enrolled_total</th>\n",
       "      <th>earnings_mean</th>\n",
       "      <th>earnings_med</th>\n",
       "      <th>total_grant</th>\n",
       "    </tr>\n",
       "  </thead>\n",
       "  <tbody>\n",
       "    <tr>\n",
       "      <th>6284</th>\n",
       "      <td>497301</td>\n",
       "      <td>Avalon Institute-Las Vegas</td>\n",
       "      <td>Las Vegas</td>\n",
       "      <td>NV</td>\n",
       "      <td>0</td>\n",
       "      <td>9.0</td>\n",
       "      <td>6.0</td>\n",
       "      <td>36.142355</td>\n",
       "      <td>-115.206409</td>\n",
       "      <td>None</td>\n",
       "      <td>...</td>\n",
       "      <td>None</td>\n",
       "      <td>None</td>\n",
       "      <td>None</td>\n",
       "      <td>NaN</td>\n",
       "      <td>NaN</td>\n",
       "      <td>NaN</td>\n",
       "      <td>NaN</td>\n",
       "      <td>NaN</td>\n",
       "      <td>NaN</td>\n",
       "      <td>NaN</td>\n",
       "    </tr>\n",
       "    <tr>\n",
       "      <th>6285</th>\n",
       "      <td>497310</td>\n",
       "      <td>Medspa Academies-National Institute of Modern ...</td>\n",
       "      <td>Las Vegas</td>\n",
       "      <td>NV</td>\n",
       "      <td>0</td>\n",
       "      <td>9.0</td>\n",
       "      <td>6.0</td>\n",
       "      <td>36.117236</td>\n",
       "      <td>-115.158173</td>\n",
       "      <td>None</td>\n",
       "      <td>...</td>\n",
       "      <td>None</td>\n",
       "      <td>None</td>\n",
       "      <td>None</td>\n",
       "      <td>NaN</td>\n",
       "      <td>NaN</td>\n",
       "      <td>NaN</td>\n",
       "      <td>NaN</td>\n",
       "      <td>NaN</td>\n",
       "      <td>NaN</td>\n",
       "      <td>NaN</td>\n",
       "    </tr>\n",
       "    <tr>\n",
       "      <th>6286</th>\n",
       "      <td>497329</td>\n",
       "      <td>American Institute-Cherry Hill</td>\n",
       "      <td>Cherry Hill</td>\n",
       "      <td>NJ</td>\n",
       "      <td>0</td>\n",
       "      <td>9.0</td>\n",
       "      <td>6.0</td>\n",
       "      <td>39.939428</td>\n",
       "      <td>-75.015417</td>\n",
       "      <td>None</td>\n",
       "      <td>...</td>\n",
       "      <td>None</td>\n",
       "      <td>None</td>\n",
       "      <td>None</td>\n",
       "      <td>NaN</td>\n",
       "      <td>NaN</td>\n",
       "      <td>NaN</td>\n",
       "      <td>NaN</td>\n",
       "      <td>NaN</td>\n",
       "      <td>NaN</td>\n",
       "      <td>NaN</td>\n",
       "    </tr>\n",
       "    <tr>\n",
       "      <th>6287</th>\n",
       "      <td>497338</td>\n",
       "      <td>Glendale Career College-North-West College-Bak...</td>\n",
       "      <td>Bakersfield</td>\n",
       "      <td>CA</td>\n",
       "      <td>0</td>\n",
       "      <td>6.0</td>\n",
       "      <td>4.0</td>\n",
       "      <td>35.339951</td>\n",
       "      <td>-119.035082</td>\n",
       "      <td>None</td>\n",
       "      <td>...</td>\n",
       "      <td>None</td>\n",
       "      <td>None</td>\n",
       "      <td>None</td>\n",
       "      <td>NaN</td>\n",
       "      <td>NaN</td>\n",
       "      <td>NaN</td>\n",
       "      <td>NaN</td>\n",
       "      <td>NaN</td>\n",
       "      <td>NaN</td>\n",
       "      <td>NaN</td>\n",
       "    </tr>\n",
       "    <tr>\n",
       "      <th>6288</th>\n",
       "      <td>497347</td>\n",
       "      <td>University of Maine - Machias</td>\n",
       "      <td>Machias</td>\n",
       "      <td>ME</td>\n",
       "      <td>0</td>\n",
       "      <td>NaN</td>\n",
       "      <td>NaN</td>\n",
       "      <td>44.708803</td>\n",
       "      <td>-67.458025</td>\n",
       "      <td>None</td>\n",
       "      <td>...</td>\n",
       "      <td>None</td>\n",
       "      <td>None</td>\n",
       "      <td>None</td>\n",
       "      <td>NaN</td>\n",
       "      <td>NaN</td>\n",
       "      <td>NaN</td>\n",
       "      <td>NaN</td>\n",
       "      <td>NaN</td>\n",
       "      <td>NaN</td>\n",
       "      <td>NaN</td>\n",
       "    </tr>\n",
       "  </tbody>\n",
       "</table>\n",
       "<p>5 rows × 156 columns</p>\n",
       "</div>"
      ],
      "text/plain": [
       "      unitid                                          inst_name         city  \\\n",
       "6284  497301                         Avalon Institute-Las Vegas    Las Vegas   \n",
       "6285  497310  Medspa Academies-National Institute of Modern ...    Las Vegas   \n",
       "6286  497329                     American Institute-Cherry Hill  Cherry Hill   \n",
       "6287  497338  Glendale Career College-North-West College-Bak...  Bakersfield   \n",
       "6288  497347                      University of Maine - Machias      Machias   \n",
       "\n",
       "     state_abbr  in_alliance  sector  inst_category   latitude   longitude  \\\n",
       "6284         NV            0     9.0            6.0  36.142355 -115.206409   \n",
       "6285         NV            0     9.0            6.0  36.117236 -115.158173   \n",
       "6286         NJ            0     9.0            6.0  39.939428  -75.015417   \n",
       "6287         CA            0     6.0            4.0  35.339951 -119.035082   \n",
       "6288         ME            0     NaN            NaN  44.708803  -67.458025   \n",
       "\n",
       "     unitid:1  ...  heca  est_fte  rep_fte  calc_fte  number_applied  \\\n",
       "6284     None  ...  None     None     None       NaN             NaN   \n",
       "6285     None  ...  None     None     None       NaN             NaN   \n",
       "6286     None  ...  None     None     None       NaN             NaN   \n",
       "6287     None  ...  None     None     None       NaN             NaN   \n",
       "6288     None  ...  None     None     None       NaN             NaN   \n",
       "\n",
       "      number_admitted  number_enrolled_total  earnings_mean  earnings_med  \\\n",
       "6284              NaN                    NaN            NaN           NaN   \n",
       "6285              NaN                    NaN            NaN           NaN   \n",
       "6286              NaN                    NaN            NaN           NaN   \n",
       "6287              NaN                    NaN            NaN           NaN   \n",
       "6288              NaN                    NaN            NaN           NaN   \n",
       "\n",
       "      total_grant  \n",
       "6284          NaN  \n",
       "6285          NaN  \n",
       "6286          NaN  \n",
       "6287          NaN  \n",
       "6288          NaN  \n",
       "\n",
       "[5 rows x 156 columns]"
      ]
     },
     "execution_count": 82,
     "metadata": {},
     "output_type": "execute_result"
    }
   ],
   "source": [
    "# Combining data with SQL\n",
    "import sqlite3\n",
    "import pandas as pd\n",
    "import numpy as np\n",
    "\n",
    "# Connect to the in-memory SQLite database\n",
    "conn = sqlite3.connect(':memory:')\n",
    "\n",
    "# Convert pandas DataFrames to temporary SQL tables\n",
    "directory.to_sql('directory', conn, index=False)\n",
    "fin.to_sql('fin', conn, index=False)\n",
    "aae.to_sql('aae', conn, index=False)\n",
    "earnings.to_sql('earnings', conn, index=False)\n",
    "gnp.to_sql('gnp', conn, index=False)\n",
    "aldf.to_sql('aldf', conn, index=False)\n",
    "\n",
    "# Standard year where data were most available\n",
    "year = 2017\n",
    "\n",
    "# Execute the SQL statements\n",
    "cursor = conn.cursor()\n",
    "\n",
    "# Create the merged_directory_gnp table with all the joins and filtering\n",
    "query = \"\"\"\n",
    "WITH directory_grouped AS (\n",
    "    SELECT directory.*, CASE WHEN directory.unitid IN (SELECT unitid FROM aldf) THEN 1 ELSE 0 END AS in_alliance\n",
    "    FROM directory\n",
    "),\n",
    "merged_directory_finances AS (\n",
    "    SELECT d.unitid, d.inst_name, d.city, d.state_abbr, d.in_alliance, d.sector, d.inst_category, d.latitude, d.longitude, fin.*\n",
    "    FROM directory_grouped AS d\n",
    "    LEFT JOIN fin ON d.unitid = fin.unitid AND fin.year = ?\n",
    "),\n",
    "merged_directory_aae AS (\n",
    "    SELECT merged_directory_finances.*, aae.number_applied, aae.number_admitted, aae.number_enrolled_total\n",
    "    FROM merged_directory_finances\n",
    "    LEFT JOIN aae ON merged_directory_finances.unitid = aae.unitid AND aae.year = ? AND aae.sex = 99\n",
    "),\n",
    "merged_directory_earnings AS (\n",
    "    SELECT merged_directory_aae.*, earnings.earnings_mean, earnings.earnings_med\n",
    "    FROM merged_directory_aae\n",
    "    LEFT JOIN earnings ON merged_directory_aae.unitid = earnings.unitid AND earnings.year = 2014 AND earnings.cohort_year = 2008\n",
    "),\n",
    "merged_directory_gnp AS (\n",
    "    SELECT merged_directory_earnings.*, gnp.total_grant\n",
    "    FROM merged_directory_earnings\n",
    "    LEFT JOIN gnp\n",
    "    ON merged_directory_earnings.unitid = gnp.unitid\n",
    "    AND gnp.type_of_aid = 3\n",
    "    AND gnp.tuition_type = 99\n",
    "    AND gnp.income_level = 99\n",
    "    AND gnp.year = ?\n",
    ")\n",
    "SELECT * FROM merged_directory_gnp;\n",
    "\"\"\"\n",
    "\n",
    "# Fetch the results into a new DataFrame\n",
    "cursor.execute(query, (year, year, year))\n",
    "results = cursor.fetchall()\n",
    "columns = [description[0] for description in cursor.description]\n",
    "df = pd.DataFrame(results, columns=columns)\n",
    "\n",
    "# Replace -1, -2, -3 with NaN\n",
    "df.replace([-1, -2, -3], np.nan, inplace=True)\n",
    "\n",
    "# Commit the changes and close the cursor and connection\n",
    "conn.commit()\n",
    "cursor.close()\n",
    "conn.close()\n",
    "\n",
    "# Print the resulting DataFrame\n",
    "df.tail()\n"
   ]
  },
  {
   "cell_type": "code",
   "execution_count": 67,
   "id": "7c58750c",
   "metadata": {},
   "outputs": [
    {
     "data": {
      "text/html": [
       "<div>\n",
       "<style scoped>\n",
       "    .dataframe tbody tr th:only-of-type {\n",
       "        vertical-align: middle;\n",
       "    }\n",
       "\n",
       "    .dataframe tbody tr th {\n",
       "        vertical-align: top;\n",
       "    }\n",
       "\n",
       "    .dataframe thead th {\n",
       "        text-align: right;\n",
       "    }\n",
       "</style>\n",
       "<table border=\"1\" class=\"dataframe\">\n",
       "  <thead>\n",
       "    <tr style=\"text-align: right;\">\n",
       "      <th></th>\n",
       "      <th>unitid</th>\n",
       "      <th>inst_name</th>\n",
       "      <th>city</th>\n",
       "      <th>state_abbr</th>\n",
       "      <th>in_alliance</th>\n",
       "      <th>year</th>\n",
       "      <th>fips</th>\n",
       "      <th>rev_tuition_fees_gross</th>\n",
       "      <th>rev_tuition_fees_net</th>\n",
       "      <th>rev_appropriations_fed</th>\n",
       "      <th>...</th>\n",
       "      <th>heca</th>\n",
       "      <th>est_fte</th>\n",
       "      <th>rep_fte</th>\n",
       "      <th>calc_fte</th>\n",
       "      <th>number_applied</th>\n",
       "      <th>number_admitted</th>\n",
       "      <th>number_enrolled_total</th>\n",
       "      <th>earnings_mean</th>\n",
       "      <th>earnings_med</th>\n",
       "      <th>total_grant</th>\n",
       "    </tr>\n",
       "  </thead>\n",
       "  <tbody>\n",
       "    <tr>\n",
       "      <th>6284</th>\n",
       "      <td>497301</td>\n",
       "      <td>Avalon Institute-Las Vegas</td>\n",
       "      <td>Las Vegas</td>\n",
       "      <td>NV</td>\n",
       "      <td>0</td>\n",
       "      <td>NaN</td>\n",
       "      <td>NaN</td>\n",
       "      <td>NaN</td>\n",
       "      <td>NaN</td>\n",
       "      <td>NaN</td>\n",
       "      <td>...</td>\n",
       "      <td>NaN</td>\n",
       "      <td>NaN</td>\n",
       "      <td>NaN</td>\n",
       "      <td>NaN</td>\n",
       "      <td>NaN</td>\n",
       "      <td>NaN</td>\n",
       "      <td>NaN</td>\n",
       "      <td>NaN</td>\n",
       "      <td>NaN</td>\n",
       "      <td>NaN</td>\n",
       "    </tr>\n",
       "    <tr>\n",
       "      <th>6285</th>\n",
       "      <td>497310</td>\n",
       "      <td>Medspa Academies-National Institute of Modern ...</td>\n",
       "      <td>Las Vegas</td>\n",
       "      <td>NV</td>\n",
       "      <td>0</td>\n",
       "      <td>NaN</td>\n",
       "      <td>NaN</td>\n",
       "      <td>NaN</td>\n",
       "      <td>NaN</td>\n",
       "      <td>NaN</td>\n",
       "      <td>...</td>\n",
       "      <td>NaN</td>\n",
       "      <td>NaN</td>\n",
       "      <td>NaN</td>\n",
       "      <td>NaN</td>\n",
       "      <td>NaN</td>\n",
       "      <td>NaN</td>\n",
       "      <td>NaN</td>\n",
       "      <td>NaN</td>\n",
       "      <td>NaN</td>\n",
       "      <td>NaN</td>\n",
       "    </tr>\n",
       "    <tr>\n",
       "      <th>6286</th>\n",
       "      <td>497329</td>\n",
       "      <td>American Institute-Cherry Hill</td>\n",
       "      <td>Cherry Hill</td>\n",
       "      <td>NJ</td>\n",
       "      <td>0</td>\n",
       "      <td>NaN</td>\n",
       "      <td>NaN</td>\n",
       "      <td>NaN</td>\n",
       "      <td>NaN</td>\n",
       "      <td>NaN</td>\n",
       "      <td>...</td>\n",
       "      <td>NaN</td>\n",
       "      <td>NaN</td>\n",
       "      <td>NaN</td>\n",
       "      <td>NaN</td>\n",
       "      <td>NaN</td>\n",
       "      <td>NaN</td>\n",
       "      <td>NaN</td>\n",
       "      <td>NaN</td>\n",
       "      <td>NaN</td>\n",
       "      <td>NaN</td>\n",
       "    </tr>\n",
       "    <tr>\n",
       "      <th>6287</th>\n",
       "      <td>497338</td>\n",
       "      <td>Glendale Career College-North-West College-Bak...</td>\n",
       "      <td>Bakersfield</td>\n",
       "      <td>CA</td>\n",
       "      <td>0</td>\n",
       "      <td>NaN</td>\n",
       "      <td>NaN</td>\n",
       "      <td>NaN</td>\n",
       "      <td>NaN</td>\n",
       "      <td>NaN</td>\n",
       "      <td>...</td>\n",
       "      <td>NaN</td>\n",
       "      <td>NaN</td>\n",
       "      <td>NaN</td>\n",
       "      <td>NaN</td>\n",
       "      <td>NaN</td>\n",
       "      <td>NaN</td>\n",
       "      <td>NaN</td>\n",
       "      <td>NaN</td>\n",
       "      <td>NaN</td>\n",
       "      <td>NaN</td>\n",
       "    </tr>\n",
       "    <tr>\n",
       "      <th>6288</th>\n",
       "      <td>497347</td>\n",
       "      <td>University of Maine - Machias</td>\n",
       "      <td>Machias</td>\n",
       "      <td>ME</td>\n",
       "      <td>0</td>\n",
       "      <td>NaN</td>\n",
       "      <td>NaN</td>\n",
       "      <td>NaN</td>\n",
       "      <td>NaN</td>\n",
       "      <td>NaN</td>\n",
       "      <td>...</td>\n",
       "      <td>NaN</td>\n",
       "      <td>NaN</td>\n",
       "      <td>NaN</td>\n",
       "      <td>NaN</td>\n",
       "      <td>NaN</td>\n",
       "      <td>NaN</td>\n",
       "      <td>NaN</td>\n",
       "      <td>NaN</td>\n",
       "      <td>NaN</td>\n",
       "      <td>NaN</td>\n",
       "    </tr>\n",
       "  </tbody>\n",
       "</table>\n",
       "<p>5 rows × 151 columns</p>\n",
       "</div>"
      ],
      "text/plain": [
       "      unitid                                          inst_name         city  \\\n",
       "6284  497301                         Avalon Institute-Las Vegas    Las Vegas   \n",
       "6285  497310  Medspa Academies-National Institute of Modern ...    Las Vegas   \n",
       "6286  497329                     American Institute-Cherry Hill  Cherry Hill   \n",
       "6287  497338  Glendale Career College-North-West College-Bak...  Bakersfield   \n",
       "6288  497347                      University of Maine - Machias      Machias   \n",
       "\n",
       "     state_abbr  in_alliance  year  fips  rev_tuition_fees_gross  \\\n",
       "6284         NV            0   NaN   NaN                     NaN   \n",
       "6285         NV            0   NaN   NaN                     NaN   \n",
       "6286         NJ            0   NaN   NaN                     NaN   \n",
       "6287         CA            0   NaN   NaN                     NaN   \n",
       "6288         ME            0   NaN   NaN                     NaN   \n",
       "\n",
       "      rev_tuition_fees_net  rev_appropriations_fed  ...  heca  est_fte  \\\n",
       "6284                   NaN                     NaN  ...   NaN      NaN   \n",
       "6285                   NaN                     NaN  ...   NaN      NaN   \n",
       "6286                   NaN                     NaN  ...   NaN      NaN   \n",
       "6287                   NaN                     NaN  ...   NaN      NaN   \n",
       "6288                   NaN                     NaN  ...   NaN      NaN   \n",
       "\n",
       "      rep_fte  calc_fte  number_applied  number_admitted  \\\n",
       "6284      NaN       NaN             NaN              NaN   \n",
       "6285      NaN       NaN             NaN              NaN   \n",
       "6286      NaN       NaN             NaN              NaN   \n",
       "6287      NaN       NaN             NaN              NaN   \n",
       "6288      NaN       NaN             NaN              NaN   \n",
       "\n",
       "      number_enrolled_total  earnings_mean  earnings_med  total_grant  \n",
       "6284                    NaN            NaN           NaN          NaN  \n",
       "6285                    NaN            NaN           NaN          NaN  \n",
       "6286                    NaN            NaN           NaN          NaN  \n",
       "6287                    NaN            NaN           NaN          NaN  \n",
       "6288                    NaN            NaN           NaN          NaN  \n",
       "\n",
       "[5 rows x 151 columns]"
      ]
     },
     "execution_count": 67,
     "metadata": {},
     "output_type": "execute_result"
    }
   ],
   "source": [
    "# Combining data with pandas\n",
    "# Standard year where data were most available\n",
    "year = 2017\n",
    "\n",
    "# Add alliance status column to directory\n",
    "directory['in_alliance'] = np.where(directory['unitid'].isin(aldf['unitid'].unique()), 1, 0)\n",
    "\n",
    "# Merge directory and finances\n",
    "df = pd.merge(directory.drop(columns='year'), fin[fin['year']==year], on=['unitid'], how='left')\n",
    "\n",
    "# Merge with application-admission-enrollment\n",
    "aae_yr = aae[(aae['year']==year) & (aae['sex']==99)]\n",
    "df = df.merge(aae_yr[['unitid', 'number_applied', 'number_admitted','number_enrolled_total']], on='unitid', how='left')\n",
    "# Merge with earnings after graduation data\n",
    "earn0814 = earnings[(earnings['year'] == 2014) & (earnings['cohort_year'] == 2008)]\n",
    "df = df.merge(earn0814[['unitid', 'earnings_mean','earnings_med']], on=['unitid'], how='left')\n",
    "# Merge with grants and net price data\n",
    "gnp_fil = gnp[\n",
    "              (gnp['type_of_aid']==3) # Federal, state, local, or institutional grants\n",
    "              & (gnp['tuition_type']==99) # 99 means all tuition types\n",
    "              & (gnp['income_level']==99) # 99 means all income levels\n",
    "              & (gnp['year']==year)\n",
    "]\n",
    "\n",
    "df = df.merge(gnp_fil[['unitid', 'total_grant']], on=['unitid'], how='left')\n",
    "# Treat missing values as NaN\n",
    "df = df.replace([-1,-2,-3], np.NaN)\n",
    "df.tail()\n"
   ]
  },
  {
   "cell_type": "code",
   "execution_count": 99,
   "id": "4ffdba2f",
   "metadata": {},
   "outputs": [],
   "source": [
    "# Rename levels of sector and category to be more descriptive\n",
    "sector_dict = {0:'administrative unit',1:'public four-year', 2:'private non-profit four-year', 3:'private for-profit four-year', 4:'public two-year', 5:'private non-profit two-year',\n",
    "               6:'private for-profit two-year', 7:'public less than two-year', 8:'private non-profit less than two-year', 9:'private for-profit less than two-year', -1:'unknown', -2:'not applicable',-3:'suppressed data'}\n",
    "category_dict = {1:'degree-granting, graduate with no undergraduate degrees', 2:'degree-granting, primarily baccalaureate or above',\n",
    "                3:'degree-granting, not primarily baccalaureate or above',4:\"degree-granting, associate's and certificates\", \n",
    "                5:\"nondegree-granting, above the baccalaureate\", 6:\"nondegree-granting, sub-baccalaureate\",\n",
    "                -1:'unknown', -2:'not applicable',-3:'suppressed data'}\n",
    "df['sector'] = df['sector'].fillna(-1).astype(int).replace(sector_dict)\n",
    "df['inst_category'] = df['inst_category'].fillna(-1).astype(int).replace(category_dict)"
   ]
  },
  {
   "attachments": {},
   "cell_type": "markdown",
   "id": "0828f3fb",
   "metadata": {},
   "source": [
    "# Prepare more metrics"
   ]
  },
  {
   "cell_type": "code",
   "execution_count": 105,
   "id": "3e1204c2",
   "metadata": {},
   "outputs": [],
   "source": [
    "# Admission rate\n",
    "df['admission_rate'] = df['number_admitted']/df['number_applied']\n",
    "# Enrollment rate\n",
    "df['enrollment_rate'] = df['number_enrolled_total']/df['number_admitted']\n",
    "# Gifts as percent of total revenue\n",
    "df['gifts_as_percent_of_total_revenue'] = df['rev_gifts_grants_contracts']/df['rev_total_current']\n",
    "# Tuition income as percent of total revenue\n",
    "df['tuition_as_percent_of_total_revenue'] = df['rev_tuition_fees_net']/df['rev_total_current']\n",
    "# net revenue from auxiliary business as a percentage of total revenue\n",
    "df['rev_auxiliary_enterprises_net_as_percent_of_total_revenue'] = df['rev_auxiliary_enterprises_net']/df['rev_total_current']\n",
    "# auxiliary enterprises expenses as a percentage of total expenses\n",
    "df['exp_auxiliary_enterprises_as_percent_of_total_expenses'] = df['exp_aux_ent_total']/df['exp_total_current']\n",
    "# total instruction expenses as percentage of total expenses\n",
    "df['exp_instruc_total_as_percent_of_total_expenses'] = df['exp_instruc_total']/df['exp_total_current']\n",
    "# Net operating income ratio on auxiliary enterprises\n",
    "df['net_operating_income_ratio_on_auxiliary_enterprises'] = (df['rev_auxiliary_enterprises_net']-df['exp_aux_ent_total'])/df['exp_aux_ent_total']\n",
    "# debt_to_assets_ratio\n",
    "df['debt_to_assets_ratio'] = df['assets']/df['liabilities']\n",
    "# maintenance and operations expenses as a percentage of total expenses\n",
    "df['exp_opm_as_percent_of_total_expenses'] = df['exp_total_opm']/df['exp_total_current']\n",
    "# academic support expense as a percentage of total expenses\n",
    "df['exp_academic_support_as_percent_of_total_expenses'] = df['exp_acad_supp_total']/df['exp_total_current']\n",
    "# Total Grant as a percentage of tuition revenue\n",
    "df['total_grant_as_percent_of_tuition_revenue'] = df['total_grant']/df['rev_tuition_fees_gross']\n",
    "\n",
    "df=df.replace([np.inf, -np.inf], np.nan)\n"
   ]
  },
  {
   "cell_type": "code",
   "execution_count": 76,
   "id": "f96d0ba4",
   "metadata": {},
   "outputs": [
    {
     "data": {
      "text/html": [
       "<div>\n",
       "<style scoped>\n",
       "    .dataframe tbody tr th:only-of-type {\n",
       "        vertical-align: middle;\n",
       "    }\n",
       "\n",
       "    .dataframe tbody tr th {\n",
       "        vertical-align: top;\n",
       "    }\n",
       "\n",
       "    .dataframe thead th {\n",
       "        text-align: right;\n",
       "    }\n",
       "</style>\n",
       "<table border=\"1\" class=\"dataframe\">\n",
       "  <thead>\n",
       "    <tr style=\"text-align: right;\">\n",
       "      <th></th>\n",
       "      <th>unitid</th>\n",
       "      <th>inst_name</th>\n",
       "      <th>city</th>\n",
       "      <th>state_abbr</th>\n",
       "      <th>in_alliance</th>\n",
       "      <th>latitude</th>\n",
       "      <th>longitude</th>\n",
       "      <th>unitid:1</th>\n",
       "      <th>year</th>\n",
       "      <th>fips</th>\n",
       "      <th>...</th>\n",
       "      <th>tuition_as_percent_of_total_revenue</th>\n",
       "      <th>rev_auxiliary_enterprises_net_as_percent_of_total_revenue</th>\n",
       "      <th>exp_auxiliary_enterprises_as_percent_of_total_expenses</th>\n",
       "      <th>exp_instruc_total_as_percent_of_total_expenses</th>\n",
       "      <th>net_operating_income_ratio_on_auxiliary_enterprises</th>\n",
       "      <th>debt_to_assets_ratio</th>\n",
       "      <th>exp_opm_as_percent_of_total_expenses</th>\n",
       "      <th>exp_academic_support_as_percent_of_total_expenses</th>\n",
       "      <th>total_grant_as_percent_of_tuition_revenue</th>\n",
       "      <th>system_name</th>\n",
       "    </tr>\n",
       "  </thead>\n",
       "  <tbody>\n",
       "    <tr>\n",
       "      <th>0</th>\n",
       "      <td>100654</td>\n",
       "      <td>Alabama A &amp; M University</td>\n",
       "      <td>Normal</td>\n",
       "      <td>AL</td>\n",
       "      <td>1</td>\n",
       "      <td>34.783368</td>\n",
       "      <td>-86.568502</td>\n",
       "      <td>100654</td>\n",
       "      <td>2017.0</td>\n",
       "      <td>1.0</td>\n",
       "      <td>...</td>\n",
       "      <td>0.262199</td>\n",
       "      <td>0.134331</td>\n",
       "      <td>0.075489</td>\n",
       "      <td>0.204457</td>\n",
       "      <td>0.910608</td>\n",
       "      <td>0.909179</td>\n",
       "      <td>0.102325</td>\n",
       "      <td>0.042219</td>\n",
       "      <td>NaN</td>\n",
       "      <td>Association of Public and Land-grant Universities</td>\n",
       "    </tr>\n",
       "    <tr>\n",
       "      <th>1</th>\n",
       "      <td>100654</td>\n",
       "      <td>Alabama A &amp; M University</td>\n",
       "      <td>Normal</td>\n",
       "      <td>AL</td>\n",
       "      <td>1</td>\n",
       "      <td>34.783368</td>\n",
       "      <td>-86.568502</td>\n",
       "      <td>100654</td>\n",
       "      <td>2017.0</td>\n",
       "      <td>1.0</td>\n",
       "      <td>...</td>\n",
       "      <td>0.262199</td>\n",
       "      <td>0.134331</td>\n",
       "      <td>0.075489</td>\n",
       "      <td>0.204457</td>\n",
       "      <td>0.910608</td>\n",
       "      <td>0.909179</td>\n",
       "      <td>0.102325</td>\n",
       "      <td>0.042219</td>\n",
       "      <td>NaN</td>\n",
       "      <td>Oak Ridge Associated Universities</td>\n",
       "    </tr>\n",
       "    <tr>\n",
       "      <th>2</th>\n",
       "      <td>100654</td>\n",
       "      <td>Alabama A &amp; M University</td>\n",
       "      <td>Normal</td>\n",
       "      <td>AL</td>\n",
       "      <td>1</td>\n",
       "      <td>34.783368</td>\n",
       "      <td>-86.568502</td>\n",
       "      <td>100654</td>\n",
       "      <td>2017.0</td>\n",
       "      <td>1.0</td>\n",
       "      <td>...</td>\n",
       "      <td>0.262199</td>\n",
       "      <td>0.134331</td>\n",
       "      <td>0.075489</td>\n",
       "      <td>0.204457</td>\n",
       "      <td>0.910608</td>\n",
       "      <td>0.909179</td>\n",
       "      <td>0.102325</td>\n",
       "      <td>0.042219</td>\n",
       "      <td>NaN</td>\n",
       "      <td>American Association of State Colleges and Uni...</td>\n",
       "    </tr>\n",
       "    <tr>\n",
       "      <th>3</th>\n",
       "      <td>100663</td>\n",
       "      <td>University of Alabama at Birmingham</td>\n",
       "      <td>Birmingham</td>\n",
       "      <td>AL</td>\n",
       "      <td>1</td>\n",
       "      <td>33.505697</td>\n",
       "      <td>-86.799345</td>\n",
       "      <td>100663</td>\n",
       "      <td>2017.0</td>\n",
       "      <td>1.0</td>\n",
       "      <td>...</td>\n",
       "      <td>0.078715</td>\n",
       "      <td>0.013730</td>\n",
       "      <td>0.028578</td>\n",
       "      <td>0.104597</td>\n",
       "      <td>-0.488732</td>\n",
       "      <td>1.463158</td>\n",
       "      <td>0.027791</td>\n",
       "      <td>0.061354</td>\n",
       "      <td>NaN</td>\n",
       "      <td>American Association of Colleges and Universities</td>\n",
       "    </tr>\n",
       "    <tr>\n",
       "      <th>4</th>\n",
       "      <td>100663</td>\n",
       "      <td>University of Alabama at Birmingham</td>\n",
       "      <td>Birmingham</td>\n",
       "      <td>AL</td>\n",
       "      <td>1</td>\n",
       "      <td>33.505697</td>\n",
       "      <td>-86.799345</td>\n",
       "      <td>100663</td>\n",
       "      <td>2017.0</td>\n",
       "      <td>1.0</td>\n",
       "      <td>...</td>\n",
       "      <td>0.078715</td>\n",
       "      <td>0.013730</td>\n",
       "      <td>0.028578</td>\n",
       "      <td>0.104597</td>\n",
       "      <td>-0.488732</td>\n",
       "      <td>1.463158</td>\n",
       "      <td>0.027791</td>\n",
       "      <td>0.061354</td>\n",
       "      <td>NaN</td>\n",
       "      <td>Inter-University Consortium for Political and ...</td>\n",
       "    </tr>\n",
       "  </tbody>\n",
       "</table>\n",
       "<p>5 rows × 167 columns</p>\n",
       "</div>"
      ],
      "text/plain": [
       "   unitid                            inst_name        city state_abbr  \\\n",
       "0  100654             Alabama A & M University      Normal         AL   \n",
       "1  100654             Alabama A & M University      Normal         AL   \n",
       "2  100654             Alabama A & M University      Normal         AL   \n",
       "3  100663  University of Alabama at Birmingham  Birmingham         AL   \n",
       "4  100663  University of Alabama at Birmingham  Birmingham         AL   \n",
       "\n",
       "   in_alliance   latitude  longitude unitid:1    year  fips  ...  \\\n",
       "0            1  34.783368 -86.568502   100654  2017.0   1.0  ...   \n",
       "1            1  34.783368 -86.568502   100654  2017.0   1.0  ...   \n",
       "2            1  34.783368 -86.568502   100654  2017.0   1.0  ...   \n",
       "3            1  33.505697 -86.799345   100663  2017.0   1.0  ...   \n",
       "4            1  33.505697 -86.799345   100663  2017.0   1.0  ...   \n",
       "\n",
       "   tuition_as_percent_of_total_revenue  \\\n",
       "0                             0.262199   \n",
       "1                             0.262199   \n",
       "2                             0.262199   \n",
       "3                             0.078715   \n",
       "4                             0.078715   \n",
       "\n",
       "   rev_auxiliary_enterprises_net_as_percent_of_total_revenue  \\\n",
       "0                                           0.134331           \n",
       "1                                           0.134331           \n",
       "2                                           0.134331           \n",
       "3                                           0.013730           \n",
       "4                                           0.013730           \n",
       "\n",
       "   exp_auxiliary_enterprises_as_percent_of_total_expenses  \\\n",
       "0                                           0.075489        \n",
       "1                                           0.075489        \n",
       "2                                           0.075489        \n",
       "3                                           0.028578        \n",
       "4                                           0.028578        \n",
       "\n",
       "   exp_instruc_total_as_percent_of_total_expenses  \\\n",
       "0                                        0.204457   \n",
       "1                                        0.204457   \n",
       "2                                        0.204457   \n",
       "3                                        0.104597   \n",
       "4                                        0.104597   \n",
       "\n",
       "   net_operating_income_ratio_on_auxiliary_enterprises  debt_to_assets_ratio  \\\n",
       "0                                           0.910608                0.909179   \n",
       "1                                           0.910608                0.909179   \n",
       "2                                           0.910608                0.909179   \n",
       "3                                          -0.488732                1.463158   \n",
       "4                                          -0.488732                1.463158   \n",
       "\n",
       "   exp_opm_as_percent_of_total_expenses  \\\n",
       "0                              0.102325   \n",
       "1                              0.102325   \n",
       "2                              0.102325   \n",
       "3                              0.027791   \n",
       "4                              0.027791   \n",
       "\n",
       "   exp_academic_support_as_percent_of_total_expenses  \\\n",
       "0                                           0.042219   \n",
       "1                                           0.042219   \n",
       "2                                           0.042219   \n",
       "3                                           0.061354   \n",
       "4                                           0.061354   \n",
       "\n",
       "   total_grant_as_percent_of_tuition_revenue  \\\n",
       "0                                        NaN   \n",
       "1                                        NaN   \n",
       "2                                        NaN   \n",
       "3                                        NaN   \n",
       "4                                        NaN   \n",
       "\n",
       "                                         system_name  \n",
       "0  Association of Public and Land-grant Universities  \n",
       "1                  Oak Ridge Associated Universities  \n",
       "2  American Association of State Colleges and Uni...  \n",
       "3  American Association of Colleges and Universities  \n",
       "4  Inter-University Consortium for Political and ...  \n",
       "\n",
       "[5 rows x 167 columns]"
      ]
     },
     "execution_count": 76,
     "metadata": {},
     "output_type": "execute_result"
    }
   ],
   "source": [
    "# Combining to institutions in Alliances\n",
    "adf = pd.merge(df, aldf[['unitid','system_name']], on = 'unitid', how = 'inner')\n",
    "adf.head()"
   ]
  },
  {
   "attachments": {},
   "cell_type": "markdown",
   "id": "5a2410db",
   "metadata": {},
   "source": [
    "# Mean vs. Median Problem"
   ]
  },
  {
   "attachments": {},
   "cell_type": "markdown",
   "id": "9c405398",
   "metadata": {},
   "source": [
    "## 1. Distributions with similar means might have different spreads"
   ]
  },
  {
   "cell_type": "code",
   "execution_count": 109,
   "id": "6fbbd6a7",
   "metadata": {},
   "outputs": [
    {
     "data": {
      "image/png": "[encoded data removed]",
      "text/plain": [
       "<Figure size 640x480 with 1 Axes>"
      ]
     },
     "metadata": {},
     "output_type": "display_data"
    }
   ],
   "source": [
    "import seaborn as sns\n",
    "data = df[df['sector'] == 'private non-profit four-year']\n",
    "\n",
    "group_labels = {0: 'Standalone', 1: 'In Alliance'}\n",
    "colors = {0: 'darkgrey', 1: 'darkgreen'}\n",
    "\n",
    "value = 'exp_instruc_total_as_percent_of_total_expenses'\n",
    "category = 'in_alliance'\n",
    "\n",
    "# Filter data for each category separately\n",
    "groups = data[category].unique()\n",
    "\n",
    "# Create the figure and axes\n",
    "fig, ax = plt.subplots()\n",
    "\n",
    "for group in groups:\n",
    "    group_data = df[df[category] == group][value]\n",
    "    sns.kdeplot(group_data, color=colors[group], label=group_labels[group], fill=True)\n",
    "    plt.hist(group_data, bins=60, color=colors[group], alpha=0.5, density=True)\n",
    "\n",
    "    # Calculate and plot the mean line\n",
    "    mean_value = group_data.mean()\n",
    "    std = group_data.std()\n",
    "    ax.axvline(mean_value, color=colors[group], linestyle='--', linewidth=1)\n",
    "    ax.text(mean_value, 0.9+group/10, f'mean = {mean_value:.2f}, SD = {std:.2f}', color=colors[group], ha='left', va='top', transform=ax.get_xaxis_transform())\n",
    "\n",
    "plt.xlabel('Instruction Expenses as Percent of Total Expenses')\n",
    "plt.xlim(0, 1)\n",
    "plt.ylabel('Density')\n",
    "# Position the legend in the middle right edge\n",
    "plt.legend(loc='center right', bbox_to_anchor=(1.25, 0.5))\n",
    "plt.title('Distributions of Instruction Expenses as Percent of Total Expenses by Alliance Status')\n",
    "\n",
    "plt.show()\n"
   ]
  },
  {
   "cell_type": "code",
   "execution_count": null,
   "id": "aee765a0",
   "metadata": {},
   "outputs": [
    {
     "name": "stdout",
     "output_type": "stream",
     "text": [
      "Skewness of Instruction Expenses as Percent of Total Expenses by Alliance Status\n",
      "In Alliance:  0.11504005296544793\n",
      "Standalone:  0.6369647382617045\n",
      "Kurtosis of Instruction Expenses as Percent of Total Expenses by Alliance Status\n",
      "In Alliance:  1.234653689042628\n",
      "Standalone:  0.9922689017924342\n"
     ]
    }
   ],
   "source": [
    "# skewness per alliance status\n",
    "import numpy as np\n",
    "from scipy.stats import skew, kurtosis\n",
    "\n",
    "variable = 'exp_instruc_total_as_percent_of_total_expenses'\n",
    "print('Skewness of Instruction Expenses as Percent of Total Expenses by Alliance Status')\n",
    "print('In Alliance: ', skew(data[data['in_alliance'] == 1][variable].dropna()))\n",
    "print('Standalone: ', skew(data[data['in_alliance'] == 0][variable].dropna()))\n",
    "\n",
    "# kurtosis per alliance status\n",
    "print('Kurtosis of Instruction Expenses as Percent of Total Expenses by Alliance Status')\n",
    "print('In Alliance: ', kurtosis(data[data['in_alliance'] == 1][variable].dropna()))\n",
    "print('Standalone: ', kurtosis(data[data['in_alliance'] == 0][variable].dropna()))"
   ]
  },
  {
   "attachments": {},
   "cell_type": "markdown",
   "id": "6722b606",
   "metadata": {},
   "source": [
    "## 2. Skewness shifts distance between mean and median"
   ]
  },
  {
   "cell_type": "code",
   "execution_count": 106,
   "id": "bc956844",
   "metadata": {},
   "outputs": [
    {
     "data": {
      "image/png": "[encoded data removed]",
      "text/plain": [
       "<Figure size 1600x900 with 1 Axes>"
      ]
     },
     "metadata": {},
     "output_type": "display_data"
    }
   ],
   "source": [
    "import seaborn as sns\n",
    "data = df[df['sector'] == 'private non-profit four-year']\n",
    "\n",
    "group_labels = {0: 'Standalone', 1: 'In Alliance'}\n",
    "colors = {0: 'darkgrey', 1: 'darkgreen'}\n",
    "\n",
    "value = 'enrollment_rate'\n",
    "category = 'in_alliance'\n",
    "\n",
    "# Filter data for each category separately\n",
    "groups = data[category].unique()\n",
    "\n",
    "# Create the figure and axes with a 16:9 aspect ratio\n",
    "fig, ax = plt.subplots(figsize=(16, 9))\n",
    "\n",
    "for group in groups:\n",
    "    group_data = df[df[category] == group][value]\n",
    "    sns.kdeplot(group_data, color=colors[group], label=group_labels[group], fill=True)\n",
    "    plt.hist(group_data, bins=60, color=colors[group], alpha=0.5, density=True)\n",
    "\n",
    "    # Calculate and plot the mean line\n",
    "    mean_value = group_data.mean()\n",
    "    std = group_data.std()\n",
    "    ax.axvline(mean_value, color=colors[group], linestyle='--', linewidth=1)\n",
    "    ax.text(mean_value, 0.9+group/10, f'mean = {mean_value:.2f}, SD = {std:.2f}', color=colors[group], ha='left', va='top', transform=ax.get_xaxis_transform(), fontsize=20)\n",
    "\n",
    "    # Calculate and plot the median line\n",
    "    median_value = group_data.median()\n",
    "    ax.axvline(median_value, color=colors[group], linestyle=':', linewidth=1)\n",
    "    ax.text(median_value, 0.8+group/10, f'median = {median_value:.2f}', color=colors[group], ha='left', va='top', transform=ax.get_xaxis_transform(), fontsize=20)\n",
    "\n",
    "plt.xlabel('Enrollment Rate (enrolled/accepted)', fontsize=20)\n",
    "plt.ylabel('Density', fontsize=20)\n",
    "# make x and y ticker bigger\n",
    "plt.xticks(fontsize=20)\n",
    "plt.yticks(fontsize=20)\n",
    "plt.title('Distributions of Enrollment Rate by Alliance Status', fontsize=24)\n",
    "plt.xlim(0, 1)  # Set x-axis limits from 0 to 1\n",
    "# Position the legend in the middle right edge\n",
    "plt.legend(loc='center right', bbox_to_anchor=(1.25, 0.5), fontsize=20)\n",
    "\n",
    "plt.show()\n"
   ]
  },
  {
   "attachments": {},
   "cell_type": "markdown",
   "id": "52d82f26",
   "metadata": {},
   "source": [
    "## 3. Comparing Mean and Median Earnings After Graduation among Private Non-Profit Four-Year Institutions"
   ]
  },
  {
   "cell_type": "code",
   "execution_count": 100,
   "id": "0b22e552",
   "metadata": {},
   "outputs": [
    {
     "data": {
      "image/png": "[encoded data removed]",
      "text/plain": [
       "<Figure size 800x800 with 1 Axes>"
      ]
     },
     "metadata": {},
     "output_type": "display_data"
    }
   ],
   "source": [
    "# Filter for private non-profit four-year institutions\n",
    "data = df[df['sector'] == 'private non-profit four-year'].reset_index(drop=True)\n",
    "\n",
    "# Mean vs Med earnings after graduation boxplots\n",
    "fig, ax = plt.subplots(figsize=(8,8))\n",
    "columns=['earnings_mean','earnings_med']\n",
    "series = [data[column].dropna() for column in columns]\n",
    "\n",
    "boxplot = ax.boxplot(series, labels=['Mean Earnings', 'Median Earnings'], patch_artist=True)\n",
    "\n",
    "colors = ['red', 'blue']\n",
    "for patch, color in zip(boxplot['boxes'], colors):\n",
    "    patch.set_facecolor(color)\n",
    "\n",
    "plt.ylabel('Earnings after Graduation in 2014 of 2008 cohort ($)')\n",
    "\n",
    "# Grab the relevant Line2D instances from the boxplot dictionary\n",
    "medians = boxplot['medians']\n",
    "caps = boxplot['caps']\n",
    "\n",
    "for i, median in enumerate(medians):\n",
    "    xpos = median.get_xdata()\n",
    "    xoff = 0.10 * (xpos[1] - xpos[0])\n",
    "    xlabel = xpos[1] + xoff\n",
    "    median_y = median.get_ydata()[0]\n",
    "    ax.text(xlabel, median_y, 'Median = {:.2f}'.format(median_y), va='center')\n",
    "\n",
    "    # Add labels for 25th and 75th percentiles\n",
    "    q1 = np.percentile(series[i], 25)\n",
    "    q3 = np.percentile(series[i], 75)\n",
    "    ax.text(xlabel, q1, '25th percentile = {:.2f}'.format(q1), va='center')\n",
    "    ax.text(xlabel, q3, '75th percentile = {:.2f}'.format(q3), va='center')\n",
    "\n",
    "    # Add labels for top cap and bottom cap\n",
    "    for cap in caps:\n",
    "        xpos = cap.get_xdata()\n",
    "        xoff = 0.10 * (xpos[1] - xpos[0])\n",
    "        xlabel = xpos[1] + xoff\n",
    "        cap_y = cap.get_ydata()[0]\n",
    "        if cap_y < median_y:\n",
    "            ax.text(xlabel, cap_y, 'Bottom cap: {:.2f}'.format(cap_y), va='center')\n",
    "        else:   \n",
    "            ax.text(xlabel, cap_y, 'Top cap: {:.2f}'.format(cap_y), va='center')\n",
    "\n",
    "# Calculate and display the mean for each boxplot\n",
    "for i, column in enumerate(columns):\n",
    "    mean = np.mean(series[i])\n",
    "    xpos = medians[i].get_xdata()\n",
    "    xoff = 0.10 * (xpos[1] - xpos[0])\n",
    "    xlabel = xpos[1] + xoff\n",
    "    ax.text(xlabel, mean, 'Mean = {:.2f}'.format(mean), va='center')\n",
    "\n",
    "# Add title:\n",
    "plt.title('Mean vs Median Earnings after Graduation at Private Non-profit Four-year Institutions:\\nInstitutions tend to report higher mean earnings than median earnings', fontsize=14)\n",
    "plt.tight_layout()\n",
    "plt.show()\n"
   ]
  },
  {
   "cell_type": "code",
   "execution_count": 103,
   "id": "f8975b0c",
   "metadata": {},
   "outputs": [
    {
     "name": "stderr",
     "output_type": "stream",
     "text": [
      "C:\\Users\\nnguyen2\\AppData\\Local\\Temp\\ipykernel_11828\\3622771810.py:28: MatplotlibDeprecationWarning: Unable to determine Axes to steal space for Colorbar. Using gca(), but will raise in the future. Either provide the *cax* argument to use as the Axes for the Colorbar, provide the *ax* argument to steal space from it, or add *mappable* to an Axes.\n",
      "  plt.colorbar(sm, label='Mean-Median Difference')\n"
     ]
    },
    {
     "data": {
      "image/png": "[encoded data removed]",
      "text/plain": [
       "<Figure size 800x450 with 2 Axes>"
      ]
     },
     "metadata": {},
     "output_type": "display_data"
    }
   ],
   "source": [
    "# create \"mean_med_diff\" column that is earnings_mean - earnings_med\n",
    "data['mean_med_diff'] = data['earnings_mean'] - data['earnings_med']\n",
    "\n",
    "import numpy as np\n",
    "import matplotlib.pyplot as plt\n",
    "\n",
    "# Create a red-blue colormap that diverges at 0, reversed so that red is higher values\n",
    "cmap = plt.cm.get_cmap('RdBu_r')\n",
    "norm = plt.Normalize(vmin=-max(abs(data['mean_med_diff'])), vmax=max(abs(data['mean_med_diff'])))\n",
    "\n",
    "# Set the figsize\n",
    "fig, ax = plt.subplots(figsize=(8, 4.5))\n",
    "\n",
    "# Plot the histogram using bars\n",
    "n, bins, patches = plt.hist(data['mean_med_diff'], bins=50)\n",
    "\n",
    "# Set the color for each patch based on x-axis values\n",
    "bin_centers = 0.5 * (bins[:-1] + bins[1:])\n",
    "colors = cmap(norm(bin_centers))\n",
    "\n",
    "# Set the color for each patch\n",
    "for patch, color in zip(patches, colors):\n",
    "    patch.set_facecolor(color)\n",
    "\n",
    "# Set the colorbar\n",
    "sm = plt.cm.ScalarMappable(cmap=cmap, norm=norm)\n",
    "sm.set_array([])\n",
    "plt.colorbar(sm, label='Mean-Median Difference')\n",
    "\n",
    "# Set the axis labels and title\n",
    "plt.xlabel('Mean-Median Difference in Earnings After Graduation ($)')\n",
    "plt.ylabel('Frequency')\n",
    "plt.title('Histogram of Mean-Median Difference in Earnings after Graduation:\\nThe vast majority of institutions reported higher mean than median')\n",
    "\n",
    "# Show the plot\n",
    "plt.show()\n",
    "\n"
   ]
  }
 ],
 "metadata": {
  "kernelspec": {
   "display_name": "Python 3 (ipykernel)",
   "language": "python",
   "name": "python3"
  },
  "language_info": {
   "codemirror_mode": {
    "name": "ipython",
    "version": 3
   },
   "file_extension": ".py",
   "mimetype": "text/x-python",
   "name": "python",
   "nbconvert_exporter": "python",
   "pygments_lexer": "ipython3",
   "version": "3.11.1"
  }
 },
 "nbformat": 4,
 "nbformat_minor": 5
}
